{
 "cells": [
  {
   "cell_type": "code",
   "execution_count": 1,
   "metadata": {},
   "outputs": [],
   "source": [
    "import pandas as pd\n",
    "from datetime import datetime as dt"
   ]
  },
  {
   "cell_type": "code",
   "execution_count": 2,
   "metadata": {},
   "outputs": [],
   "source": [
    "df = pd.read_excel(\"./Dane/zam_321.xls\")"
   ]
  },
  {
   "cell_type": "code",
   "execution_count": 3,
   "metadata": {},
   "outputs": [
    {
     "data": {
      "text/plain": [
       "Index(['Komisja', 'Artykul opis', 'Rodzina', 'PP', 'Stary predef kod',\n",
       "       'Zamówienie ilość', 'Klienci opis', 'Data zamowienia', 'Data dost',\n",
       "       'Uwagi wew.', 'Data wstawienia', 'Zebrana nazwa', 'Zestaw handl.',\n",
       "       'Kubatura', 'Waga', 'Data Prod', 'Cena', 'Wart. poz.', 'Waluta kod',\n",
       "       'Status tkaninowy', 'Status tkan.', 'Priorytet zam.', 'Data wp. zam.',\n",
       "       'Waluta', 'Waluta kurs', 'Wgr zam. ID', 'Cena netto', 'Upost pozycji %',\n",
       "       'Upust pozycji kwota', 'Ilosc paczek', 'Ilosc plan', 'LP', 'J.m.',\n",
       "       'Klienci waluta', 'Miasto dostawy', 'kod dostawy', 'ulica dostawy',\n",
       "       'Adres dostawy', 'Kraj dostawy kod', 'Typ zamówienia', 'ETA',\n",
       "       'Ilość siedzisk'],\n",
       "      dtype='object')"
      ]
     },
     "execution_count": 3,
     "metadata": {},
     "output_type": "execute_result"
    }
   ],
   "source": [
    "df.columns"
   ]
  },
  {
   "cell_type": "code",
   "execution_count": 4,
   "metadata": {},
   "outputs": [
    {
     "data": {
      "text/plain": [
       "Komisja                    0\n",
       "Artykul opis               0\n",
       "Rodzina                    0\n",
       "PP                       210\n",
       "Stary predef kod           0\n",
       "Zamówienie ilość           0\n",
       "Klienci opis               0\n",
       "Data zamowienia            0\n",
       "Data dost                  0\n",
       "Uwagi wew.             20295\n",
       "Data wstawienia            0\n",
       "Zebrana nazwa            157\n",
       "Zestaw handl.          16216\n",
       "Kubatura                   4\n",
       "Waga                       0\n",
       "Data Prod                  0\n",
       "Cena                       0\n",
       "Wart. poz.                 0\n",
       "Waluta kod                 0\n",
       "Status tkaninowy           0\n",
       "Status tkan.            1952\n",
       "Priorytet zam.             0\n",
       "Data wp. zam.              0\n",
       "Waluta                     0\n",
       "Waluta kurs                0\n",
       "Wgr zam. ID                0\n",
       "Cena netto                25\n",
       "Upost pozycji %            0\n",
       "Upust pozycji kwota        0\n",
       "Ilosc paczek               0\n",
       "Ilosc plan                 0\n",
       "LP                         0\n",
       "J.m.                       0\n",
       "Klienci waluta             0\n",
       "Miasto dostawy             0\n",
       "kod dostawy                0\n",
       "ulica dostawy              0\n",
       "Adres dostawy              0\n",
       "Kraj dostawy kod           0\n",
       "Typ zamówienia             0\n",
       "ETA                      790\n",
       "Ilość siedzisk             0\n",
       "dtype: int64"
      ]
     },
     "execution_count": 4,
     "metadata": {},
     "output_type": "execute_result"
    }
   ],
   "source": [
    "df.isna().sum()"
   ]
  },
  {
   "cell_type": "code",
   "execution_count": 5,
   "metadata": {},
   "outputs": [],
   "source": [
    "df[\"PP\"] = df.PP.fillna(\"BRAK PACZKI\")"
   ]
  },
  {
   "cell_type": "code",
   "execution_count": 6,
   "metadata": {},
   "outputs": [
    {
     "data": {
      "text/plain": [
       "0        2024-07-05\n",
       "1        2024-07-05\n",
       "2        2024-07-05\n",
       "3        2024-07-05\n",
       "4        2024-07-05\n",
       "            ...    \n",
       "36472    2024-10-30\n",
       "36473    2024-10-30\n",
       "36474    2024-11-25\n",
       "36475    2025-01-08\n",
       "36476    2024-12-10\n",
       "Name: ETA, Length: 36477, dtype: object"
      ]
     },
     "execution_count": 6,
     "metadata": {},
     "output_type": "execute_result"
    }
   ],
   "source": [
    "df[\"ETA\"]"
   ]
  },
  {
   "cell_type": "code",
   "execution_count": 7,
   "metadata": {},
   "outputs": [
    {
     "data": {
      "text/plain": [
       "array(['Zamówienie na magazyn', 'Zamówienie od odbiorcy',\n",
       "       'Zamówienie  prototyp', 'Reklamacja płatna',\n",
       "       'Reklamacja bezpłatna'], dtype=object)"
      ]
     },
     "execution_count": 7,
     "metadata": {},
     "output_type": "execute_result"
    }
   ],
   "source": [
    "df[\"Typ zamówienia\"].unique()"
   ]
  },
  {
   "cell_type": "code",
   "execution_count": 8,
   "metadata": {},
   "outputs": [],
   "source": [
    "zamowienia = df[df[\"Typ zamówienia\"] == 'Zamówienie od odbiorcy'][[\"Klienci opis\", \"Komisja\",  'Artykul opis', \"Data wp. zam.\", 'Data dost', ]]\n",
    "zamowienia = zamowienia.merge(\n",
    "            df[\n",
    "                [\"Klienci opis\", \"Komisja\",  'Artykul opis', \"Data wp. zam.\", 'Data dost', 'Stary predef kod', 'Zamówienie ilość', 'Uwagi wew.', 'Zebrana nazwa', 'Zestaw handl.',]\n",
    "            ], how= \"left\", on=[\"Klienci opis\", \"Komisja\",  'Artykul opis', \"Data wp. zam.\", 'Data dost'])\\\n",
    "        .sort_values(by=\"Data wp. zam.\")"
   ]
  },
  {
   "cell_type": "code",
   "execution_count": 10,
   "metadata": {},
   "outputs": [
    {
     "data": {
      "text/plain": [
       "1699     K+PS+POP1+POP2: 5213 BERGEN, ST: STOPKA DREWNI...\n",
       "1700     K+PS+POP1+POP2: 5213 BERGEN, ST: STOPKA DREWNI...\n",
       "770      K+PS+POP1+POP2+PD1+PD2: 5313 EQUILIBRIO, NS: N...\n",
       "771      K+PS: 5313 EQUILIBRIO, NS+KR: NIE DOTYCZY, ST:...\n",
       "772                                  PD1: 5313 EQUILIBRIO,\n",
       "                               ...                        \n",
       "48514    K+PS+POP1: 5046 STAUNCH, NS: NIE DOTYCZY, ST: ...\n",
       "48513    K+PS: 5434 COLOURWASH, ST: STOPKA DREWNIANA KO...\n",
       "48512    K+PS+POP1+POP2: 5434 COLOURWASH, ST: STOPKA DR...\n",
       "48492             K+PS+POP1: 5816 NUAGE, WS: WSZYWKA OLTA,\n",
       "48710    K+PS+POP1+PD1: 4192 RESERVE, ST: STOPKA STAL M...\n",
       "Name: Zebrana nazwa, Length: 48711, dtype: object"
      ]
     },
     "execution_count": 10,
     "metadata": {},
     "output_type": "execute_result"
    }
   ],
   "source": [
    "zamowienia[\"Zebrana nazwa\"]"
   ]
  },
  {
   "cell_type": "code",
   "execution_count": 9,
   "metadata": {},
   "outputs": [
    {
     "data": {
      "text/plain": [
       "{'0',\n",
       " 'AT',\n",
       " 'B',\n",
       " 'B+PS',\n",
       " 'BL',\n",
       " 'D',\n",
       " 'K',\n",
       " 'K+B+POP1',\n",
       " 'K+LK+PS+POP1',\n",
       " 'K+LK+PS+POP1+PD1',\n",
       " 'K+POP1',\n",
       " 'K+POP12',\n",
       " 'K+POP2',\n",
       " 'K+PS',\n",
       " 'K+PS+POP1',\n",
       " 'K+PS+POP1+PD1',\n",
       " 'K+PS+POP1+PD1+PD2',\n",
       " 'K+PS+POP1+PD1+PD2+PD3',\n",
       " 'K+PS+POP1+PON1',\n",
       " 'K+PS+POP1+PON1+PD1+PD2',\n",
       " 'K+PS+POP1+POP2',\n",
       " 'K+PS+POP1+POP2+PD1+PD2',\n",
       " 'K+PS+POP1+POP2+POP3',\n",
       " 'K+PS+POP2',\n",
       " 'KR',\n",
       " 'KW+PS',\n",
       " 'KW+PS+PON1',\n",
       " 'KZ',\n",
       " 'KZ+KW',\n",
       " 'KZ+KW+B+PS',\n",
       " 'KZ+KW+LK+PS',\n",
       " 'KZ+KW+PS',\n",
       " 'KZ+KW+PS+PON1',\n",
       " 'KZ+PON1',\n",
       " 'LI',\n",
       " 'LI+KR',\n",
       " 'LI+KR+WS',\n",
       " 'LI+WS',\n",
       " 'LK',\n",
       " 'LK+LPD1',\n",
       " 'LK+NS',\n",
       " 'LPD1',\n",
       " 'NO',\n",
       " 'NS',\n",
       " 'NS+D',\n",
       " 'NS+KR',\n",
       " 'NS+KR+WS',\n",
       " 'NS+ST',\n",
       " 'NS+ST+KR',\n",
       " 'NS+ST+KR+WS',\n",
       " 'NS+ST+WS',\n",
       " 'NS+WS',\n",
       " 'NS+ZZ',\n",
       " 'NS+ZZ+WS',\n",
       " 'PD1',\n",
       " 'PD1+LPD1',\n",
       " 'PD1+PD2',\n",
       " 'PD1+PD2+PD3',\n",
       " 'PD2',\n",
       " 'PD3',\n",
       " 'PON1',\n",
       " 'POP1+POP2',\n",
       " 'POP2',\n",
       " 'PS',\n",
       " 'PS+POP1',\n",
       " 'PS+POP1+PD1',\n",
       " 'PS+POP1+POP2',\n",
       " 'PS+POP1+POP2+PD1+PD2',\n",
       " 'ST',\n",
       " 'ST+KR+WS',\n",
       " 'ST+LI',\n",
       " 'ST+LI+KR',\n",
       " 'ST+LI+KR+WS',\n",
       " 'ST+NS+ZZ+WS',\n",
       " 'ST+WS',\n",
       " 'ST+ZZ+WS',\n",
       " 'TK',\n",
       " 'TK1',\n",
       " 'TK1+TK2+TK3+TK4',\n",
       " 'TK2+TK3+TK4',\n",
       " 'TL+TG',\n",
       " 'TP',\n",
       " 'TP+TL+TG',\n",
       " 'WP',\n",
       " 'WP+WY',\n",
       " 'WS',\n",
       " 'WY',\n",
       " 'ZZ',\n",
       " 'ZZ+NS',\n",
       " 'ŁĄ'}"
      ]
     },
     "execution_count": 9,
     "metadata": {},
     "output_type": "execute_result"
    }
   ],
   "source": [
    "headers = []\n",
    "for x in zamowienia[\"Zebrana nazwa\"].unique():\n",
    "    opis = x.split(\",\")\n",
    "    # print(opis)\n",
    "    for hed in opis:\n",
    "        if hed != \"\":\n",
    "            headers.append(hed.split(\":\")[0].strip())\n",
    "\n",
    "     \n",
    "    \n",
    "   \n",
    "\n",
    "set(headers)"
   ]
  },
  {
   "cell_type": "code",
   "execution_count": null,
   "metadata": {},
   "outputs": [],
   "source": []
  }
 ],
 "metadata": {
  "kernelspec": {
   "display_name": ".venv",
   "language": "python",
   "name": "python3"
  },
  "language_info": {
   "codemirror_mode": {
    "name": "ipython",
    "version": 3
   },
   "file_extension": ".py",
   "mimetype": "text/x-python",
   "name": "python",
   "nbconvert_exporter": "python",
   "pygments_lexer": "ipython3",
   "version": "3.11.8"
  }
 },
 "nbformat": 4,
 "nbformat_minor": 2
}
